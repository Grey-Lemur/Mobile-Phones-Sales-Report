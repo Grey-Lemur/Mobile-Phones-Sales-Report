{
 "cells": [
  {
   "cell_type": "code",
   "execution_count": 1,
   "id": "4621e5b1",
   "metadata": {},
   "outputs": [
    {
     "data": {
      "text/html": [
       "<div>\n",
       "<style scoped>\n",
       "    .dataframe tbody tr th:only-of-type {\n",
       "        vertical-align: middle;\n",
       "    }\n",
       "\n",
       "    .dataframe tbody tr th {\n",
       "        vertical-align: top;\n",
       "    }\n",
       "\n",
       "    .dataframe thead th {\n",
       "        text-align: right;\n",
       "    }\n",
       "</style>\n",
       "<table border=\"1\" class=\"dataframe\">\n",
       "  <thead>\n",
       "    <tr style=\"text-align: right;\">\n",
       "      <th></th>\n",
       "      <th>Transaction_ID</th>\n",
       "      <th>Transaction_Date</th>\n",
       "      <th>End of Month</th>\n",
       "      <th>Mobile_Model</th>\n",
       "      <th>Brand</th>\n",
       "      <th>Storage_Size</th>\n",
       "      <th>Color</th>\n",
       "      <th>Operating_System</th>\n",
       "      <th>Price</th>\n",
       "      <th>Units_Sold</th>\n",
       "      <th>Total_Revenue</th>\n",
       "      <th>Sales_Channel</th>\n",
       "      <th>Payment_Type</th>\n",
       "      <th>Customer_Age</th>\n",
       "      <th>Customer_Age_Group</th>\n",
       "      <th>Customer_Gender</th>\n",
       "      <th>Country</th>\n",
       "      <th>City</th>\n",
       "      <th>Latitude</th>\n",
       "      <th>Longitude</th>\n",
       "    </tr>\n",
       "  </thead>\n",
       "  <tbody>\n",
       "    <tr>\n",
       "      <th>0</th>\n",
       "      <td>3a59ca6b-4f80-443f-9925-c6471b119fc5</td>\n",
       "      <td>2024-01-01</td>\n",
       "      <td>2024-01-31</td>\n",
       "      <td>Pixel 8a</td>\n",
       "      <td>Google</td>\n",
       "      <td>128GB</td>\n",
       "      <td>Blue</td>\n",
       "      <td>Android</td>\n",
       "      <td>534</td>\n",
       "      <td>20</td>\n",
       "      <td>10680</td>\n",
       "      <td>Online</td>\n",
       "      <td>UPI</td>\n",
       "      <td>40</td>\n",
       "      <td>34-41</td>\n",
       "      <td>Male</td>\n",
       "      <td>Pakistan</td>\n",
       "      <td>Lahore</td>\n",
       "      <td>31.5497</td>\n",
       "      <td>74.3436</td>\n",
       "    </tr>\n",
       "    <tr>\n",
       "      <th>1</th>\n",
       "      <td>45cf6d15-4c86-4367-ada7-cdb67dc97ae2</td>\n",
       "      <td>2024-01-02</td>\n",
       "      <td>2024-01-31</td>\n",
       "      <td>Pixel 8a</td>\n",
       "      <td>Google</td>\n",
       "      <td>256GB</td>\n",
       "      <td>White</td>\n",
       "      <td>Android</td>\n",
       "      <td>531</td>\n",
       "      <td>65</td>\n",
       "      <td>34515</td>\n",
       "      <td>Partner</td>\n",
       "      <td>Cash</td>\n",
       "      <td>55</td>\n",
       "      <td>50-57</td>\n",
       "      <td>Other</td>\n",
       "      <td>Pakistan</td>\n",
       "      <td>Multan</td>\n",
       "      <td>30.1575</td>\n",
       "      <td>71.5249</td>\n",
       "    </tr>\n",
       "    <tr>\n",
       "      <th>2</th>\n",
       "      <td>4053c488-2914-4b4b-add0-8b8ae200f475</td>\n",
       "      <td>2024-01-03</td>\n",
       "      <td>2024-01-31</td>\n",
       "      <td>OnePlus 11R</td>\n",
       "      <td>OnePlus</td>\n",
       "      <td>256GB</td>\n",
       "      <td>Green</td>\n",
       "      <td>Android</td>\n",
       "      <td>608</td>\n",
       "      <td>58</td>\n",
       "      <td>35264</td>\n",
       "      <td>Online</td>\n",
       "      <td>EMI</td>\n",
       "      <td>40</td>\n",
       "      <td>34-41</td>\n",
       "      <td>Female</td>\n",
       "      <td>Bangladesh</td>\n",
       "      <td>Chittagong</td>\n",
       "      <td>22.3569</td>\n",
       "      <td>91.7832</td>\n",
       "    </tr>\n",
       "    <tr>\n",
       "      <th>3</th>\n",
       "      <td>fdd350a0-77de-454d-af2d-d1533913542a</td>\n",
       "      <td>2024-01-04</td>\n",
       "      <td>2024-01-31</td>\n",
       "      <td>Redmi Note 13</td>\n",
       "      <td>Xiaomi</td>\n",
       "      <td>256GB</td>\n",
       "      <td>Green</td>\n",
       "      <td>Android</td>\n",
       "      <td>342</td>\n",
       "      <td>25</td>\n",
       "      <td>8550</td>\n",
       "      <td>Online</td>\n",
       "      <td>Credit Card</td>\n",
       "      <td>32</td>\n",
       "      <td>26-33</td>\n",
       "      <td>Female</td>\n",
       "      <td>Turkey</td>\n",
       "      <td>Bursa</td>\n",
       "      <td>40.1828</td>\n",
       "      <td>29.0665</td>\n",
       "    </tr>\n",
       "    <tr>\n",
       "      <th>4</th>\n",
       "      <td>5162e904-aa16-4967-9471-d242b21d3246</td>\n",
       "      <td>2024-01-05</td>\n",
       "      <td>2024-01-31</td>\n",
       "      <td>Z Fold 6</td>\n",
       "      <td>Samsung</td>\n",
       "      <td>128GB</td>\n",
       "      <td>Black</td>\n",
       "      <td>Android</td>\n",
       "      <td>1841</td>\n",
       "      <td>57</td>\n",
       "      <td>104937</td>\n",
       "      <td>Online</td>\n",
       "      <td>UPI</td>\n",
       "      <td>47</td>\n",
       "      <td>42-49</td>\n",
       "      <td>Female</td>\n",
       "      <td>Bangladesh</td>\n",
       "      <td>Rajshahi</td>\n",
       "      <td>24.3745</td>\n",
       "      <td>88.6042</td>\n",
       "    </tr>\n",
       "    <tr>\n",
       "      <th>...</th>\n",
       "      <td>...</td>\n",
       "      <td>...</td>\n",
       "      <td>...</td>\n",
       "      <td>...</td>\n",
       "      <td>...</td>\n",
       "      <td>...</td>\n",
       "      <td>...</td>\n",
       "      <td>...</td>\n",
       "      <td>...</td>\n",
       "      <td>...</td>\n",
       "      <td>...</td>\n",
       "      <td>...</td>\n",
       "      <td>...</td>\n",
       "      <td>...</td>\n",
       "      <td>...</td>\n",
       "      <td>...</td>\n",
       "      <td>...</td>\n",
       "      <td>...</td>\n",
       "      <td>...</td>\n",
       "      <td>...</td>\n",
       "    </tr>\n",
       "    <tr>\n",
       "      <th>361</th>\n",
       "      <td>999884f1-17c1-4366-a5e3-8c63f28673dc</td>\n",
       "      <td>2024-12-27</td>\n",
       "      <td>2024-12-31</td>\n",
       "      <td>OnePlus 12 Pro</td>\n",
       "      <td>OnePlus</td>\n",
       "      <td>256GB</td>\n",
       "      <td>Blue</td>\n",
       "      <td>Android</td>\n",
       "      <td>829</td>\n",
       "      <td>21</td>\n",
       "      <td>17409</td>\n",
       "      <td>Online</td>\n",
       "      <td>EMI</td>\n",
       "      <td>19</td>\n",
       "      <td>18-25</td>\n",
       "      <td>Female</td>\n",
       "      <td>India</td>\n",
       "      <td>Lucknow</td>\n",
       "      <td>26.8467</td>\n",
       "      <td>80.9462</td>\n",
       "    </tr>\n",
       "    <tr>\n",
       "      <th>362</th>\n",
       "      <td>34a118c4-60d2-4450-8bc1-0c8435adabeb</td>\n",
       "      <td>2024-12-28</td>\n",
       "      <td>2024-12-31</td>\n",
       "      <td>Pixel 8a</td>\n",
       "      <td>Google</td>\n",
       "      <td>64GB</td>\n",
       "      <td>Blue</td>\n",
       "      <td>Android</td>\n",
       "      <td>539</td>\n",
       "      <td>18</td>\n",
       "      <td>9702</td>\n",
       "      <td>Online</td>\n",
       "      <td>EMI</td>\n",
       "      <td>44</td>\n",
       "      <td>42-49</td>\n",
       "      <td>Female</td>\n",
       "      <td>Turkey</td>\n",
       "      <td>Izmir</td>\n",
       "      <td>38.4192</td>\n",
       "      <td>27.1287</td>\n",
       "    </tr>\n",
       "    <tr>\n",
       "      <th>363</th>\n",
       "      <td>f26a4e4f-7e9e-481e-a594-fede2d967ec5</td>\n",
       "      <td>2024-12-29</td>\n",
       "      <td>2024-12-31</td>\n",
       "      <td>iPhone 14</td>\n",
       "      <td>Apple</td>\n",
       "      <td>64GB</td>\n",
       "      <td>Blue</td>\n",
       "      <td>iOS</td>\n",
       "      <td>884</td>\n",
       "      <td>29</td>\n",
       "      <td>25636</td>\n",
       "      <td>Retail Store</td>\n",
       "      <td>Cash</td>\n",
       "      <td>37</td>\n",
       "      <td>34-41</td>\n",
       "      <td>Female</td>\n",
       "      <td>India</td>\n",
       "      <td>Ahmedabad</td>\n",
       "      <td>23.0225</td>\n",
       "      <td>72.5714</td>\n",
       "    </tr>\n",
       "    <tr>\n",
       "      <th>364</th>\n",
       "      <td>aa4eddb8-b9a3-4f56-89f3-964b0d417867</td>\n",
       "      <td>2024-12-30</td>\n",
       "      <td>2024-12-31</td>\n",
       "      <td>iPhone 15</td>\n",
       "      <td>Apple</td>\n",
       "      <td>256GB</td>\n",
       "      <td>Black</td>\n",
       "      <td>iOS</td>\n",
       "      <td>877</td>\n",
       "      <td>88</td>\n",
       "      <td>77176</td>\n",
       "      <td>Retail Store</td>\n",
       "      <td>EMI</td>\n",
       "      <td>61</td>\n",
       "      <td>58-65</td>\n",
       "      <td>Male</td>\n",
       "      <td>Turkey</td>\n",
       "      <td>Bursa</td>\n",
       "      <td>40.1828</td>\n",
       "      <td>29.0665</td>\n",
       "    </tr>\n",
       "    <tr>\n",
       "      <th>365</th>\n",
       "      <td>857e8ec4-6502-4ef5-b95c-c4f249ed055a</td>\n",
       "      <td>2024-12-31</td>\n",
       "      <td>2024-12-31</td>\n",
       "      <td>Galaxy S25 Ultra</td>\n",
       "      <td>Samsung</td>\n",
       "      <td>128GB</td>\n",
       "      <td>Red</td>\n",
       "      <td>Android</td>\n",
       "      <td>1242</td>\n",
       "      <td>97</td>\n",
       "      <td>120474</td>\n",
       "      <td>Retail Store</td>\n",
       "      <td>Cash</td>\n",
       "      <td>20</td>\n",
       "      <td>18-25</td>\n",
       "      <td>Male</td>\n",
       "      <td>Turkey</td>\n",
       "      <td>Izmir</td>\n",
       "      <td>38.4192</td>\n",
       "      <td>27.1287</td>\n",
       "    </tr>\n",
       "  </tbody>\n",
       "</table>\n",
       "<p>366 rows × 20 columns</p>\n",
       "</div>"
      ],
      "text/plain": [
       "                           Transaction_ID Transaction_Date End of Month  \\\n",
       "0    3a59ca6b-4f80-443f-9925-c6471b119fc5       2024-01-01   2024-01-31   \n",
       "1    45cf6d15-4c86-4367-ada7-cdb67dc97ae2       2024-01-02   2024-01-31   \n",
       "2    4053c488-2914-4b4b-add0-8b8ae200f475       2024-01-03   2024-01-31   \n",
       "3    fdd350a0-77de-454d-af2d-d1533913542a       2024-01-04   2024-01-31   \n",
       "4    5162e904-aa16-4967-9471-d242b21d3246       2024-01-05   2024-01-31   \n",
       "..                                    ...              ...          ...   \n",
       "361  999884f1-17c1-4366-a5e3-8c63f28673dc       2024-12-27   2024-12-31   \n",
       "362  34a118c4-60d2-4450-8bc1-0c8435adabeb       2024-12-28   2024-12-31   \n",
       "363  f26a4e4f-7e9e-481e-a594-fede2d967ec5       2024-12-29   2024-12-31   \n",
       "364  aa4eddb8-b9a3-4f56-89f3-964b0d417867       2024-12-30   2024-12-31   \n",
       "365  857e8ec4-6502-4ef5-b95c-c4f249ed055a       2024-12-31   2024-12-31   \n",
       "\n",
       "         Mobile_Model    Brand Storage_Size  Color Operating_System  Price  \\\n",
       "0            Pixel 8a   Google        128GB   Blue          Android    534   \n",
       "1            Pixel 8a   Google        256GB  White          Android    531   \n",
       "2         OnePlus 11R  OnePlus        256GB  Green          Android    608   \n",
       "3       Redmi Note 13   Xiaomi        256GB  Green          Android    342   \n",
       "4            Z Fold 6  Samsung        128GB  Black          Android   1841   \n",
       "..                ...      ...          ...    ...              ...    ...   \n",
       "361    OnePlus 12 Pro  OnePlus        256GB   Blue          Android    829   \n",
       "362          Pixel 8a   Google         64GB   Blue          Android    539   \n",
       "363         iPhone 14    Apple         64GB   Blue              iOS    884   \n",
       "364         iPhone 15    Apple        256GB  Black              iOS    877   \n",
       "365  Galaxy S25 Ultra  Samsung        128GB    Red          Android   1242   \n",
       "\n",
       "     Units_Sold  Total_Revenue Sales_Channel Payment_Type  Customer_Age  \\\n",
       "0            20          10680        Online          UPI            40   \n",
       "1            65          34515       Partner         Cash            55   \n",
       "2            58          35264        Online          EMI            40   \n",
       "3            25           8550        Online  Credit Card            32   \n",
       "4            57         104937        Online          UPI            47   \n",
       "..          ...            ...           ...          ...           ...   \n",
       "361          21          17409        Online          EMI            19   \n",
       "362          18           9702        Online          EMI            44   \n",
       "363          29          25636  Retail Store         Cash            37   \n",
       "364          88          77176  Retail Store          EMI            61   \n",
       "365          97         120474  Retail Store         Cash            20   \n",
       "\n",
       "    Customer_Age_Group Customer_Gender     Country        City  Latitude  \\\n",
       "0                34-41            Male    Pakistan      Lahore   31.5497   \n",
       "1                50-57           Other    Pakistan      Multan   30.1575   \n",
       "2                34-41          Female  Bangladesh  Chittagong   22.3569   \n",
       "3                26-33          Female      Turkey       Bursa   40.1828   \n",
       "4                42-49          Female  Bangladesh    Rajshahi   24.3745   \n",
       "..                 ...             ...         ...         ...       ...   \n",
       "361              18-25          Female       India     Lucknow   26.8467   \n",
       "362              42-49          Female      Turkey       Izmir   38.4192   \n",
       "363              34-41          Female       India   Ahmedabad   23.0225   \n",
       "364              58-65            Male      Turkey       Bursa   40.1828   \n",
       "365              18-25            Male      Turkey       Izmir   38.4192   \n",
       "\n",
       "     Longitude  \n",
       "0      74.3436  \n",
       "1      71.5249  \n",
       "2      91.7832  \n",
       "3      29.0665  \n",
       "4      88.6042  \n",
       "..         ...  \n",
       "361    80.9462  \n",
       "362    27.1287  \n",
       "363    72.5714  \n",
       "364    29.0665  \n",
       "365    27.1287  \n",
       "\n",
       "[366 rows x 20 columns]"
      ]
     },
     "execution_count": 1,
     "metadata": {},
     "output_type": "execute_result"
    }
   ],
   "source": [
    "import pandas as pd\n",
    "import os\n",
    "\n",
    "# Create a reports directory if it doesn't exist\n",
    "output_dir = \"Mobile_Sales_Report\"\n",
    "os.makedirs(output_dir, exist_ok=True)\n",
    "pd.read_excel('C:/Users/hp/Desktop/Onyx Data - DataDNA Dataset Challenge - Mobile Phone Sales Dataset - May 2025.xlsx')"
   ]
  },
  {
   "cell_type": "code",
   "execution_count": 2,
   "id": "169e89e6",
   "metadata": {},
   "outputs": [],
   "source": [
    "phones = pd.read_excel('C:/Users/hp/Desktop/Onyx Data - DataDNA Dataset Challenge - Mobile Phone Sales Dataset - May 2025.xlsx')"
   ]
  },
  {
   "cell_type": "code",
   "execution_count": 3,
   "id": "1362dd99",
   "metadata": {},
   "outputs": [
    {
     "data": {
      "image/png": "[encoded data removed]",
      "text/plain": [
       "<Figure size 640x480 with 1 Axes>"
      ]
     },
     "metadata": {},
     "output_type": "display_data"
    }
   ],
   "source": [
    "import matplotlib.pyplot as plt\n",
    "# Group by brand and sum the units sold\n",
    "brand_sales = phones.groupby('Brand')['Units_Sold'].sum().sort_values(ascending=False)\n",
    "\n",
    "# Plotting\n",
    "fig, ax = plt.subplots()\n",
    "ax.bar(brand_sales.index, brand_sales.values)\n",
    "ax.set_xlabel('Brand')\n",
    "ax.set_ylabel('Units Sold')\n",
    "ax.set_title('Top-Selling Mobile Brands')\n",
    "plt.xticks(rotation=45)  # Rotate x-axis labels if needed\n",
    "plt.tight_layout()\n",
    "plt.show()\n",
    "\n",
    "fig.savefig(os.path.join(output_dir, \"Top-Selling_Mobile_Brands.jpg\"), dpi=300)\n",
    "plt.close(fig)"
   ]
  },
  {
   "cell_type": "code",
   "execution_count": 4,
   "id": "4bcb84c8",
   "metadata": {},
   "outputs": [
    {
     "data": {
      "application/vnd.plotly.v1+json": {
       "config": {
        "plotlyServerURL": "https://plot.ly"
       },
       "data": [
        {
         "coloraxis": "coloraxis",
         "geo": "geo",
         "hovertemplate": "Country=%{location}<br>Units_Sold=%{z}<extra></extra>",
         "locationmode": "country names",
         "locations": [
          "Bangladesh",
          "India",
          "Pakistan",
          "Turkey"
         ],
         "name": "",
         "type": "choropleth",
         "z": [
          2501,
          8612,
          554,
          6881
         ]
        }
       ],
       "layout": {
        "coloraxis": {
         "colorbar": {
          "title": {
           "text": "Units_Sold"
          }
         },
         "colorscale": [
          [
           0,
           "rgb(247,251,255)"
          ],
          [
           0.125,
           "rgb(222,235,247)"
          ],
          [
           0.25,
           "rgb(198,219,239)"
          ],
          [
           0.375,
           "rgb(158,202,225)"
          ],
          [
           0.5,
           "rgb(107,174,214)"
          ],
          [
           0.625,
           "rgb(66,146,198)"
          ],
          [
           0.75,
           "rgb(33,113,181)"
          ],
          [
           0.875,
           "rgb(8,81,156)"
          ],
          [
           1,
           "rgb(8,48,107)"
          ]
         ]
        },
        "geo": {
         "center": {},
         "domain": {
          "x": [
           0,
           1
          ],
          "y": [
           0,
           1
          ]
         },
         "projection": {
          "type": "natural earth"
         }
        },
        "legend": {
         "tracegroupgap": 0
        },
        "template": {
         "data": {
          "bar": [
           {
            "error_x": {
             "color": "#2a3f5f"
            },
            "error_y": {
             "color": "#2a3f5f"
            },
            "marker": {
             "line": {
              "color": "#E5ECF6",
              "width": 0.5
             },
             "pattern": {
              "fillmode": "overlay",
              "size": 10,
              "solidity": 0.2
             }
            },
            "type": "bar"
           }
          ],
          "barpolar": [
           {
            "marker": {
             "line": {
              "color": "#E5ECF6",
              "width": 0.5
             },
             "pattern": {
              "fillmode": "overlay",
              "size": 10,
              "solidity": 0.2
             }
            },
            "type": "barpolar"
           }
          ],
          "carpet": [
           {
            "aaxis": {
             "endlinecolor": "#2a3f5f",
             "gridcolor": "white",
             "linecolor": "white",
             "minorgridcolor": "white",
             "startlinecolor": "#2a3f5f"
            },
            "baxis": {
             "endlinecolor": "#2a3f5f",
             "gridcolor": "white",
             "linecolor": "white",
             "minorgridcolor": "white",
             "startlinecolor": "#2a3f5f"
            },
            "type": "carpet"
           }
          ],
          "choropleth": [
           {
            "colorbar": {
             "outlinewidth": 0,
             "ticks": ""
            },
            "type": "choropleth"
           }
          ],
          "contour": [
           {
            "colorbar": {
             "outlinewidth": 0,
             "ticks": ""
            },
            "colorscale": [
             [
              0,
              "#0d0887"
             ],
             [
              0.1111111111111111,
              "#46039f"
             ],
             [
              0.2222222222222222,
              "#7201a8"
             ],
             [
              0.3333333333333333,
              "#9c179e"
             ],
             [
              0.4444444444444444,
              "#bd3786"
             ],
             [
              0.5555555555555556,
              "#d8576b"
             ],
             [
              0.6666666666666666,
              "#ed7953"
             ],
             [
              0.7777777777777778,
              "#fb9f3a"
             ],
             [
              0.8888888888888888,
              "#fdca26"
             ],
             [
              1,
              "#f0f921"
             ]
            ],
            "type": "contour"
           }
          ],
          "contourcarpet": [
           {
            "colorbar": {
             "outlinewidth": 0,
             "ticks": ""
            },
            "type": "contourcarpet"
           }
          ],
          "heatmap": [
           {
            "colorbar": {
             "outlinewidth": 0,
             "ticks": ""
            },
            "colorscale": [
             [
              0,
              "#0d0887"
             ],
             [
              0.1111111111111111,
              "#46039f"
             ],
             [
              0.2222222222222222,
              "#7201a8"
             ],
             [
              0.3333333333333333,
              "#9c179e"
             ],
             [
              0.4444444444444444,
              "#bd3786"
             ],
             [
              0.5555555555555556,
              "#d8576b"
             ],
             [
              0.6666666666666666,
              "#ed7953"
             ],
             [
              0.7777777777777778,
              "#fb9f3a"
             ],
             [
              0.8888888888888888,
              "#fdca26"
             ],
             [
              1,
              "#f0f921"
             ]
            ],
            "type": "heatmap"
           }
          ],
          "heatmapgl": [
           {
            "colorbar": {
             "outlinewidth": 0,
             "ticks": ""
            },
            "colorscale": [
             [
              0,
              "#0d0887"
             ],
             [
              0.1111111111111111,
              "#46039f"
             ],
             [
              0.2222222222222222,
              "#7201a8"
             ],
             [
              0.3333333333333333,
              "#9c179e"
             ],
             [
              0.4444444444444444,
              "#bd3786"
             ],
             [
              0.5555555555555556,
              "#d8576b"
             ],
             [
              0.6666666666666666,
              "#ed7953"
             ],
             [
              0.7777777777777778,
              "#fb9f3a"
             ],
             [
              0.8888888888888888,
              "#fdca26"
             ],
             [
              1,
              "#f0f921"
             ]
            ],
            "type": "heatmapgl"
           }
          ],
          "histogram": [
           {
            "marker": {
             "pattern": {
              "fillmode": "overlay",
              "size": 10,
              "solidity": 0.2
             }
            },
            "type": "histogram"
           }
          ],
          "histogram2d": [
           {
            "colorbar": {
             "outlinewidth": 0,
             "ticks": ""
            },
            "colorscale": [
             [
              0,
              "#0d0887"
             ],
             [
              0.1111111111111111,
              "#46039f"
             ],
             [
              0.2222222222222222,
              "#7201a8"
             ],
             [
              0.3333333333333333,
              "#9c179e"
             ],
             [
              0.4444444444444444,
              "#bd3786"
             ],
             [
              0.5555555555555556,
              "#d8576b"
             ],
             [
              0.6666666666666666,
              "#ed7953"
             ],
             [
              0.7777777777777778,
              "#fb9f3a"
             ],
             [
              0.8888888888888888,
              "#fdca26"
             ],
             [
              1,
              "#f0f921"
             ]
            ],
            "type": "histogram2d"
           }
          ],
          "histogram2dcontour": [
           {
            "colorbar": {
             "outlinewidth": 0,
             "ticks": ""
            },
            "colorscale": [
             [
              0,
              "#0d0887"
             ],
             [
              0.1111111111111111,
              "#46039f"
             ],
             [
              0.2222222222222222,
              "#7201a8"
             ],
             [
              0.3333333333333333,
              "#9c179e"
             ],
             [
              0.4444444444444444,
              "#bd3786"
             ],
             [
              0.5555555555555556,
              "#d8576b"
             ],
             [
              0.6666666666666666,
              "#ed7953"
             ],
             [
              0.7777777777777778,
              "#fb9f3a"
             ],
             [
              0.8888888888888888,
              "#fdca26"
             ],
             [
              1,
              "#f0f921"
             ]
            ],
            "type": "histogram2dcontour"
           }
          ],
          "mesh3d": [
           {
            "colorbar": {
             "outlinewidth": 0,
             "ticks": ""
            },
            "type": "mesh3d"
           }
          ],
          "parcoords": [
           {
            "line": {
             "colorbar": {
              "outlinewidth": 0,
              "ticks": ""
             }
            },
            "type": "parcoords"
           }
          ],
          "pie": [
           {
            "automargin": true,
            "type": "pie"
           }
          ],
          "scatter": [
           {
            "fillpattern": {
             "fillmode": "overlay",
             "size": 10,
             "solidity": 0.2
            },
            "type": "scatter"
           }
          ],
          "scatter3d": [
           {
            "line": {
             "colorbar": {
              "outlinewidth": 0,
              "ticks": ""
             }
            },
            "marker": {
             "colorbar": {
              "outlinewidth": 0,
              "ticks": ""
             }
            },
            "type": "scatter3d"
           }
          ],
          "scattercarpet": [
           {
            "marker": {
             "colorbar": {
              "outlinewidth": 0,
              "ticks": ""
             }
            },
            "type": "scattercarpet"
           }
          ],
          "scattergeo": [
           {
            "marker": {
             "colorbar": {
              "outlinewidth": 0,
              "ticks": ""
             }
            },
            "type": "scattergeo"
           }
          ],
          "scattergl": [
           {
            "marker": {
             "colorbar": {
              "outlinewidth": 0,
              "ticks": ""
             }
            },
            "type": "scattergl"
           }
          ],
          "scattermapbox": [
           {
            "marker": {
             "colorbar": {
              "outlinewidth": 0,
              "ticks": ""
             }
            },
            "type": "scattermapbox"
           }
          ],
          "scatterpolar": [
           {
            "marker": {
             "colorbar": {
              "outlinewidth": 0,
              "ticks": ""
             }
            },
            "type": "scatterpolar"
           }
          ],
          "scatterpolargl": [
           {
            "marker": {
             "colorbar": {
              "outlinewidth": 0,
              "ticks": ""
             }
            },
            "type": "scatterpolargl"
           }
          ],
          "scatterternary": [
           {
            "marker": {
             "colorbar": {
              "outlinewidth": 0,
              "ticks": ""
             }
            },
            "type": "scatterternary"
           }
          ],
          "surface": [
           {
            "colorbar": {
             "outlinewidth": 0,
             "ticks": ""
            },
            "colorscale": [
             [
              0,
              "#0d0887"
             ],
             [
              0.1111111111111111,
              "#46039f"
             ],
             [
              0.2222222222222222,
              "#7201a8"
             ],
             [
              0.3333333333333333,
              "#9c179e"
             ],
             [
              0.4444444444444444,
              "#bd3786"
             ],
             [
              0.5555555555555556,
              "#d8576b"
             ],
             [
              0.6666666666666666,
              "#ed7953"
             ],
             [
              0.7777777777777778,
              "#fb9f3a"
             ],
             [
              0.8888888888888888,
              "#fdca26"
             ],
             [
              1,
              "#f0f921"
             ]
            ],
            "type": "surface"
           }
          ],
          "table": [
           {
            "cells": {
             "fill": {
              "color": "#EBF0F8"
             },
             "line": {
              "color": "white"
             }
            },
            "header": {
             "fill": {
              "color": "#C8D4E3"
             },
             "line": {
              "color": "white"
             }
            },
            "type": "table"
           }
          ]
         },
         "layout": {
          "annotationdefaults": {
           "arrowcolor": "#2a3f5f",
           "arrowhead": 0,
           "arrowwidth": 1
          },
          "autotypenumbers": "strict",
          "coloraxis": {
           "colorbar": {
            "outlinewidth": 0,
            "ticks": ""
           }
          },
          "colorscale": {
           "diverging": [
            [
             0,
             "#8e0152"
            ],
            [
             0.1,
             "#c51b7d"
            ],
            [
             0.2,
             "#de77ae"
            ],
            [
             0.3,
             "#f1b6da"
            ],
            [
             0.4,
             "#fde0ef"
            ],
            [
             0.5,
             "#f7f7f7"
            ],
            [
             0.6,
             "#e6f5d0"
            ],
            [
             0.7,
             "#b8e186"
            ],
            [
             0.8,
             "#7fbc41"
            ],
            [
             0.9,
             "#4d9221"
            ],
            [
             1,
             "#276419"
            ]
           ],
           "sequential": [
            [
             0,
             "#0d0887"
            ],
            [
             0.1111111111111111,
             "#46039f"
            ],
            [
             0.2222222222222222,
             "#7201a8"
            ],
            [
             0.3333333333333333,
             "#9c179e"
            ],
            [
             0.4444444444444444,
             "#bd3786"
            ],
            [
             0.5555555555555556,
             "#d8576b"
            ],
            [
             0.6666666666666666,
             "#ed7953"
            ],
            [
             0.7777777777777778,
             "#fb9f3a"
            ],
            [
             0.8888888888888888,
             "#fdca26"
            ],
            [
             1,
             "#f0f921"
            ]
           ],
           "sequentialminus": [
            [
             0,
             "#0d0887"
            ],
            [
             0.1111111111111111,
             "#46039f"
            ],
            [
             0.2222222222222222,
             "#7201a8"
            ],
            [
             0.3333333333333333,
             "#9c179e"
            ],
            [
             0.4444444444444444,
             "#bd3786"
            ],
            [
             0.5555555555555556,
             "#d8576b"
            ],
            [
             0.6666666666666666,
             "#ed7953"
            ],
            [
             0.7777777777777778,
             "#fb9f3a"
            ],
            [
             0.8888888888888888,
             "#fdca26"
            ],
            [
             1,
             "#f0f921"
            ]
           ]
          },
          "colorway": [
           "#636efa",
           "#EF553B",
           "#00cc96",
           "#ab63fa",
           "#FFA15A",
           "#19d3f3",
           "#FF6692",
           "#B6E880",
           "#FF97FF",
           "#FECB52"
          ],
          "font": {
           "color": "#2a3f5f"
          },
          "geo": {
           "bgcolor": "white",
           "lakecolor": "white",
           "landcolor": "#E5ECF6",
           "showlakes": true,
           "showland": true,
           "subunitcolor": "white"
          },
          "hoverlabel": {
           "align": "left"
          },
          "hovermode": "closest",
          "mapbox": {
           "style": "light"
          },
          "paper_bgcolor": "white",
          "plot_bgcolor": "#E5ECF6",
          "polar": {
           "angularaxis": {
            "gridcolor": "white",
            "linecolor": "white",
            "ticks": ""
           },
           "bgcolor": "#E5ECF6",
           "radialaxis": {
            "gridcolor": "white",
            "linecolor": "white",
            "ticks": ""
           }
          },
          "scene": {
           "xaxis": {
            "backgroundcolor": "#E5ECF6",
            "gridcolor": "white",
            "gridwidth": 2,
            "linecolor": "white",
            "showbackground": true,
            "ticks": "",
            "zerolinecolor": "white"
           },
           "yaxis": {
            "backgroundcolor": "#E5ECF6",
            "gridcolor": "white",
            "gridwidth": 2,
            "linecolor": "white",
            "showbackground": true,
            "ticks": "",
            "zerolinecolor": "white"
           },
           "zaxis": {
            "backgroundcolor": "#E5ECF6",
            "gridcolor": "white",
            "gridwidth": 2,
            "linecolor": "white",
            "showbackground": true,
            "ticks": "",
            "zerolinecolor": "white"
           }
          },
          "shapedefaults": {
           "line": {
            "color": "#2a3f5f"
           }
          },
          "ternary": {
           "aaxis": {
            "gridcolor": "white",
            "linecolor": "white",
            "ticks": ""
           },
           "baxis": {
            "gridcolor": "white",
            "linecolor": "white",
            "ticks": ""
           },
           "bgcolor": "#E5ECF6",
           "caxis": {
            "gridcolor": "white",
            "linecolor": "white",
            "ticks": ""
           }
          },
          "title": {
           "x": 0.05
          },
          "xaxis": {
           "automargin": true,
           "gridcolor": "white",
           "linecolor": "white",
           "ticks": "",
           "title": {
            "standoff": 15
           },
           "zerolinecolor": "white",
           "zerolinewidth": 2
          },
          "yaxis": {
           "automargin": true,
           "gridcolor": "white",
           "linecolor": "white",
           "ticks": "",
           "title": {
            "standoff": 15
           },
           "zerolinecolor": "white",
           "zerolinewidth": 2
          }
         }
        },
        "title": {
         "text": "Sales Volume by Region"
        }
       }
      }
     },
     "metadata": {},
     "output_type": "display_data"
    }
   ],
   "source": [
    "import plotly.express as px\n",
    "\n",
    "# Group by country and sum units sold\n",
    "country_sales = phones.groupby('Country')['Units_Sold'].sum().reset_index()\n",
    "\n",
    "# Create the map chart\n",
    "fig = px.choropleth(country_sales,\n",
    "                    locations='Country',\n",
    "                    locationmode='country names',\n",
    "                    color='Units_Sold',\n",
    "                    title='Sales Volume by Region',\n",
    "                    projection='natural earth',\n",
    "                    color_continuous_scale='Blues')\n",
    "\n",
    "fig.show()\n",
    "\n",
    "fig.write_image(os.path.join(output_dir, \"Sales_Volume_by_Region.jpg\"), scale=2)"
   ]
  },
  {
   "cell_type": "code",
   "execution_count": 5,
   "id": "c55e8329",
   "metadata": {},
   "outputs": [
    {
     "data": {
      "application/vnd.plotly.v1+json": {
       "config": {
        "plotlyServerURL": "https://plot.ly"
       },
       "data": [
        {
         "geo": "geo",
         "hovertemplate": "<b>%{hovertext}</b><br><br>Units_Sold=%{marker.color}<br>Latitude=%{lat}<br>Longitude=%{lon}<extra></extra>",
         "hovertext": [
          "Bangladesh",
          "Bangladesh",
          "Bangladesh",
          "Bangladesh",
          "Bangladesh",
          "India",
          "India",
          "India",
          "India",
          "India",
          "India",
          "India",
          "India",
          "India",
          "India",
          "Pakistan",
          "Pakistan",
          "Pakistan",
          "Pakistan",
          "Pakistan",
          "Turkey",
          "Turkey",
          "Turkey",
          "Turkey",
          "Turkey"
         ],
         "lat": [
          22.3569,
          22.8456,
          23.8103,
          24.3745,
          24.8949,
          12.9716,
          13.0827,
          17.385,
          18.5204,
          19.076,
          22.5726,
          23.0225,
          26.8467,
          26.9124,
          28.7041,
          24.8607,
          30.1575,
          31.5497,
          33.5651,
          33.6844,
          36.8969,
          38.4192,
          39.9334,
          40.1828,
          41.0082
         ],
         "legendgroup": "",
         "lon": [
          91.7832,
          89.5403,
          90.4125,
          88.6042,
          91.8687,
          77.5946,
          80.2707,
          78.4867,
          73.8567,
          72.8777,
          88.3639,
          72.5714,
          80.9462,
          75.7873,
          77.1025,
          67.0011,
          71.5249,
          74.3436,
          73.0169,
          73.0479,
          30.7133,
          27.1287,
          32.8597,
          29.0665,
          28.9784
         ],
         "marker": {
          "color": [
           520,
           490,
           457,
           548,
           486,
           821,
           1305,
           719,
           912,
           888,
           787,
           572,
           839,
           1237,
           532,
           233,
           65,
           31,
           88,
           137,
           1376,
           1230,
           1131,
           1799,
           1345
          ],
          "coloraxis": "coloraxis",
          "size": [
           520,
           490,
           457,
           548,
           486,
           821,
           1305,
           719,
           912,
           888,
           787,
           572,
           839,
           1237,
           532,
           233,
           65,
           31,
           88,
           137,
           1376,
           1230,
           1131,
           1799,
           1345
          ],
          "sizemode": "area",
          "sizeref": 4.4975,
          "symbol": "circle"
         },
         "mode": "markers",
         "name": "",
         "showlegend": false,
         "type": "scattergeo"
        }
       ],
       "layout": {
        "coloraxis": {
         "colorbar": {
          "title": {
           "text": "Units_Sold"
          }
         },
         "colorscale": [
          [
           0,
           "rgb(247,251,255)"
          ],
          [
           0.125,
           "rgb(222,235,247)"
          ],
          [
           0.25,
           "rgb(198,219,239)"
          ],
          [
           0.375,
           "rgb(158,202,225)"
          ],
          [
           0.5,
           "rgb(107,174,214)"
          ],
          [
           0.625,
           "rgb(66,146,198)"
          ],
          [
           0.75,
           "rgb(33,113,181)"
          ],
          [
           0.875,
           "rgb(8,81,156)"
          ],
          [
           1,
           "rgb(8,48,107)"
          ]
         ]
        },
        "geo": {
         "center": {},
         "domain": {
          "x": [
           0,
           1
          ],
          "y": [
           0,
           1
          ]
         },
         "projection": {
          "type": "natural earth"
         }
        },
        "legend": {
         "itemsizing": "constant",
         "tracegroupgap": 0
        },
        "template": {
         "data": {
          "bar": [
           {
            "error_x": {
             "color": "#2a3f5f"
            },
            "error_y": {
             "color": "#2a3f5f"
            },
            "marker": {
             "line": {
              "color": "#E5ECF6",
              "width": 0.5
             },
             "pattern": {
              "fillmode": "overlay",
              "size": 10,
              "solidity": 0.2
             }
            },
            "type": "bar"
           }
          ],
          "barpolar": [
           {
            "marker": {
             "line": {
              "color": "#E5ECF6",
              "width": 0.5
             },
             "pattern": {
              "fillmode": "overlay",
              "size": 10,
              "solidity": 0.2
             }
            },
            "type": "barpolar"
           }
          ],
          "carpet": [
           {
            "aaxis": {
             "endlinecolor": "#2a3f5f",
             "gridcolor": "white",
             "linecolor": "white",
             "minorgridcolor": "white",
             "startlinecolor": "#2a3f5f"
            },
            "baxis": {
             "endlinecolor": "#2a3f5f",
             "gridcolor": "white",
             "linecolor": "white",
             "minorgridcolor": "white",
             "startlinecolor": "#2a3f5f"
            },
            "type": "carpet"
           }
          ],
          "choropleth": [
           {
            "colorbar": {
             "outlinewidth": 0,
             "ticks": ""
            },
            "type": "choropleth"
           }
          ],
          "contour": [
           {
            "colorbar": {
             "outlinewidth": 0,
             "ticks": ""
            },
            "colorscale": [
             [
              0,
              "#0d0887"
             ],
             [
              0.1111111111111111,
              "#46039f"
             ],
             [
              0.2222222222222222,
              "#7201a8"
             ],
             [
              0.3333333333333333,
              "#9c179e"
             ],
             [
              0.4444444444444444,
              "#bd3786"
             ],
             [
              0.5555555555555556,
              "#d8576b"
             ],
             [
              0.6666666666666666,
              "#ed7953"
             ],
             [
              0.7777777777777778,
              "#fb9f3a"
             ],
             [
              0.8888888888888888,
              "#fdca26"
             ],
             [
              1,
              "#f0f921"
             ]
            ],
            "type": "contour"
           }
          ],
          "contourcarpet": [
           {
            "colorbar": {
             "outlinewidth": 0,
             "ticks": ""
            },
            "type": "contourcarpet"
           }
          ],
          "heatmap": [
           {
            "colorbar": {
             "outlinewidth": 0,
             "ticks": ""
            },
            "colorscale": [
             [
              0,
              "#0d0887"
             ],
             [
              0.1111111111111111,
              "#46039f"
             ],
             [
              0.2222222222222222,
              "#7201a8"
             ],
             [
              0.3333333333333333,
              "#9c179e"
             ],
             [
              0.4444444444444444,
              "#bd3786"
             ],
             [
              0.5555555555555556,
              "#d8576b"
             ],
             [
              0.6666666666666666,
              "#ed7953"
             ],
             [
              0.7777777777777778,
              "#fb9f3a"
             ],
             [
              0.8888888888888888,
              "#fdca26"
             ],
             [
              1,
              "#f0f921"
             ]
            ],
            "type": "heatmap"
           }
          ],
          "heatmapgl": [
           {
            "colorbar": {
             "outlinewidth": 0,
             "ticks": ""
            },
            "colorscale": [
             [
              0,
              "#0d0887"
             ],
             [
              0.1111111111111111,
              "#46039f"
             ],
             [
              0.2222222222222222,
              "#7201a8"
             ],
             [
              0.3333333333333333,
              "#9c179e"
             ],
             [
              0.4444444444444444,
              "#bd3786"
             ],
             [
              0.5555555555555556,
              "#d8576b"
             ],
             [
              0.6666666666666666,
              "#ed7953"
             ],
             [
              0.7777777777777778,
              "#fb9f3a"
             ],
             [
              0.8888888888888888,
              "#fdca26"
             ],
             [
              1,
              "#f0f921"
             ]
            ],
            "type": "heatmapgl"
           }
          ],
          "histogram": [
           {
            "marker": {
             "pattern": {
              "fillmode": "overlay",
              "size": 10,
              "solidity": 0.2
             }
            },
            "type": "histogram"
           }
          ],
          "histogram2d": [
           {
            "colorbar": {
             "outlinewidth": 0,
             "ticks": ""
            },
            "colorscale": [
             [
              0,
              "#0d0887"
             ],
             [
              0.1111111111111111,
              "#46039f"
             ],
             [
              0.2222222222222222,
              "#7201a8"
             ],
             [
              0.3333333333333333,
              "#9c179e"
             ],
             [
              0.4444444444444444,
              "#bd3786"
             ],
             [
              0.5555555555555556,
              "#d8576b"
             ],
             [
              0.6666666666666666,
              "#ed7953"
             ],
             [
              0.7777777777777778,
              "#fb9f3a"
             ],
             [
              0.8888888888888888,
              "#fdca26"
             ],
             [
              1,
              "#f0f921"
             ]
            ],
            "type": "histogram2d"
           }
          ],
          "histogram2dcontour": [
           {
            "colorbar": {
             "outlinewidth": 0,
             "ticks": ""
            },
            "colorscale": [
             [
              0,
              "#0d0887"
             ],
             [
              0.1111111111111111,
              "#46039f"
             ],
             [
              0.2222222222222222,
              "#7201a8"
             ],
             [
              0.3333333333333333,
              "#9c179e"
             ],
             [
              0.4444444444444444,
              "#bd3786"
             ],
             [
              0.5555555555555556,
              "#d8576b"
             ],
             [
              0.6666666666666666,
              "#ed7953"
             ],
             [
              0.7777777777777778,
              "#fb9f3a"
             ],
             [
              0.8888888888888888,
              "#fdca26"
             ],
             [
              1,
              "#f0f921"
             ]
            ],
            "type": "histogram2dcontour"
           }
          ],
          "mesh3d": [
           {
            "colorbar": {
             "outlinewidth": 0,
             "ticks": ""
            },
            "type": "mesh3d"
           }
          ],
          "parcoords": [
           {
            "line": {
             "colorbar": {
              "outlinewidth": 0,
              "ticks": ""
             }
            },
            "type": "parcoords"
           }
          ],
          "pie": [
           {
            "automargin": true,
            "type": "pie"
           }
          ],
          "scatter": [
           {
            "fillpattern": {
             "fillmode": "overlay",
             "size": 10,
             "solidity": 0.2
            },
            "type": "scatter"
           }
          ],
          "scatter3d": [
           {
            "line": {
             "colorbar": {
              "outlinewidth": 0,
              "ticks": ""
             }
            },
            "marker": {
             "colorbar": {
              "outlinewidth": 0,
              "ticks": ""
             }
            },
            "type": "scatter3d"
           }
          ],
          "scattercarpet": [
           {
            "marker": {
             "colorbar": {
              "outlinewidth": 0,
              "ticks": ""
             }
            },
            "type": "scattercarpet"
           }
          ],
          "scattergeo": [
           {
            "marker": {
             "colorbar": {
              "outlinewidth": 0,
              "ticks": ""
             }
            },
            "type": "scattergeo"
           }
          ],
          "scattergl": [
           {
            "marker": {
             "colorbar": {
              "outlinewidth": 0,
              "ticks": ""
             }
            },
            "type": "scattergl"
           }
          ],
          "scattermapbox": [
           {
            "marker": {
             "colorbar": {
              "outlinewidth": 0,
              "ticks": ""
             }
            },
            "type": "scattermapbox"
           }
          ],
          "scatterpolar": [
           {
            "marker": {
             "colorbar": {
              "outlinewidth": 0,
              "ticks": ""
             }
            },
            "type": "scatterpolar"
           }
          ],
          "scatterpolargl": [
           {
            "marker": {
             "colorbar": {
              "outlinewidth": 0,
              "ticks": ""
             }
            },
            "type": "scatterpolargl"
           }
          ],
          "scatterternary": [
           {
            "marker": {
             "colorbar": {
              "outlinewidth": 0,
              "ticks": ""
             }
            },
            "type": "scatterternary"
           }
          ],
          "surface": [
           {
            "colorbar": {
             "outlinewidth": 0,
             "ticks": ""
            },
            "colorscale": [
             [
              0,
              "#0d0887"
             ],
             [
              0.1111111111111111,
              "#46039f"
             ],
             [
              0.2222222222222222,
              "#7201a8"
             ],
             [
              0.3333333333333333,
              "#9c179e"
             ],
             [
              0.4444444444444444,
              "#bd3786"
             ],
             [
              0.5555555555555556,
              "#d8576b"
             ],
             [
              0.6666666666666666,
              "#ed7953"
             ],
             [
              0.7777777777777778,
              "#fb9f3a"
             ],
             [
              0.8888888888888888,
              "#fdca26"
             ],
             [
              1,
              "#f0f921"
             ]
            ],
            "type": "surface"
           }
          ],
          "table": [
           {
            "cells": {
             "fill": {
              "color": "#EBF0F8"
             },
             "line": {
              "color": "white"
             }
            },
            "header": {
             "fill": {
              "color": "#C8D4E3"
             },
             "line": {
              "color": "white"
             }
            },
            "type": "table"
           }
          ]
         },
         "layout": {
          "annotationdefaults": {
           "arrowcolor": "#2a3f5f",
           "arrowhead": 0,
           "arrowwidth": 1
          },
          "autotypenumbers": "strict",
          "coloraxis": {
           "colorbar": {
            "outlinewidth": 0,
            "ticks": ""
           }
          },
          "colorscale": {
           "diverging": [
            [
             0,
             "#8e0152"
            ],
            [
             0.1,
             "#c51b7d"
            ],
            [
             0.2,
             "#de77ae"
            ],
            [
             0.3,
             "#f1b6da"
            ],
            [
             0.4,
             "#fde0ef"
            ],
            [
             0.5,
             "#f7f7f7"
            ],
            [
             0.6,
             "#e6f5d0"
            ],
            [
             0.7,
             "#b8e186"
            ],
            [
             0.8,
             "#7fbc41"
            ],
            [
             0.9,
             "#4d9221"
            ],
            [
             1,
             "#276419"
            ]
           ],
           "sequential": [
            [
             0,
             "#0d0887"
            ],
            [
             0.1111111111111111,
             "#46039f"
            ],
            [
             0.2222222222222222,
             "#7201a8"
            ],
            [
             0.3333333333333333,
             "#9c179e"
            ],
            [
             0.4444444444444444,
             "#bd3786"
            ],
            [
             0.5555555555555556,
             "#d8576b"
            ],
            [
             0.6666666666666666,
             "#ed7953"
            ],
            [
             0.7777777777777778,
             "#fb9f3a"
            ],
            [
             0.8888888888888888,
             "#fdca26"
            ],
            [
             1,
             "#f0f921"
            ]
           ],
           "sequentialminus": [
            [
             0,
             "#0d0887"
            ],
            [
             0.1111111111111111,
             "#46039f"
            ],
            [
             0.2222222222222222,
             "#7201a8"
            ],
            [
             0.3333333333333333,
             "#9c179e"
            ],
            [
             0.4444444444444444,
             "#bd3786"
            ],
            [
             0.5555555555555556,
             "#d8576b"
            ],
            [
             0.6666666666666666,
             "#ed7953"
            ],
            [
             0.7777777777777778,
             "#fb9f3a"
            ],
            [
             0.8888888888888888,
             "#fdca26"
            ],
            [
             1,
             "#f0f921"
            ]
           ]
          },
          "colorway": [
           "#636efa",
           "#EF553B",
           "#00cc96",
           "#ab63fa",
           "#FFA15A",
           "#19d3f3",
           "#FF6692",
           "#B6E880",
           "#FF97FF",
           "#FECB52"
          ],
          "font": {
           "color": "#2a3f5f"
          },
          "geo": {
           "bgcolor": "white",
           "lakecolor": "white",
           "landcolor": "#E5ECF6",
           "showlakes": true,
           "showland": true,
           "subunitcolor": "white"
          },
          "hoverlabel": {
           "align": "left"
          },
          "hovermode": "closest",
          "mapbox": {
           "style": "light"
          },
          "paper_bgcolor": "white",
          "plot_bgcolor": "#E5ECF6",
          "polar": {
           "angularaxis": {
            "gridcolor": "white",
            "linecolor": "white",
            "ticks": ""
           },
           "bgcolor": "#E5ECF6",
           "radialaxis": {
            "gridcolor": "white",
            "linecolor": "white",
            "ticks": ""
           }
          },
          "scene": {
           "xaxis": {
            "backgroundcolor": "#E5ECF6",
            "gridcolor": "white",
            "gridwidth": 2,
            "linecolor": "white",
            "showbackground": true,
            "ticks": "",
            "zerolinecolor": "white"
           },
           "yaxis": {
            "backgroundcolor": "#E5ECF6",
            "gridcolor": "white",
            "gridwidth": 2,
            "linecolor": "white",
            "showbackground": true,
            "ticks": "",
            "zerolinecolor": "white"
           },
           "zaxis": {
            "backgroundcolor": "#E5ECF6",
            "gridcolor": "white",
            "gridwidth": 2,
            "linecolor": "white",
            "showbackground": true,
            "ticks": "",
            "zerolinecolor": "white"
           }
          },
          "shapedefaults": {
           "line": {
            "color": "#2a3f5f"
           }
          },
          "ternary": {
           "aaxis": {
            "gridcolor": "white",
            "linecolor": "white",
            "ticks": ""
           },
           "baxis": {
            "gridcolor": "white",
            "linecolor": "white",
            "ticks": ""
           },
           "bgcolor": "#E5ECF6",
           "caxis": {
            "gridcolor": "white",
            "linecolor": "white",
            "ticks": ""
           }
          },
          "title": {
           "x": 0.05
          },
          "xaxis": {
           "automargin": true,
           "gridcolor": "white",
           "linecolor": "white",
           "ticks": "",
           "title": {
            "standoff": 15
           },
           "zerolinecolor": "white",
           "zerolinewidth": 2
          },
          "yaxis": {
           "automargin": true,
           "gridcolor": "white",
           "linecolor": "white",
           "ticks": "",
           "title": {
            "standoff": 15
           },
           "zerolinecolor": "white",
           "zerolinewidth": 2
          }
         }
        },
        "title": {
         "text": "Sales Volume by Region"
        }
       }
      }
     },
     "metadata": {},
     "output_type": "display_data"
    }
   ],
   "source": [
    "import plotly.express as px\n",
    "\n",
    "# Group by Latitude and Longitude and sum units sold\n",
    "location_sales = phones.groupby(['Country', 'Latitude', 'Longitude'])['Units_Sold'].sum().reset_index()\n",
    "\n",
    "# Create a scatter geo plot\n",
    "fig = px.scatter_geo(location_sales,\n",
    "                     lat='Latitude',\n",
    "                     lon='Longitude',\n",
    "                     size='Units_Sold',\n",
    "                     hover_name='Country',\n",
    "                     title='Sales Volume by Region',\n",
    "                     projection='natural earth',\n",
    "                     color='Units_Sold',\n",
    "                     color_continuous_scale='Blues')\n",
    "\n",
    "fig.show()\n",
    "\n",
    "fig.write_image(os.path.join(output_dir, \"Sales_Volume_by_Lat_&_Long.jpg\"), scale=2)"
   ]
  },
  {
   "cell_type": "code",
   "execution_count": 6,
   "id": "69f77a69",
   "metadata": {},
   "outputs": [
    {
     "data": {
      "image/png": "[encoded data removed]",
      "text/plain": [
       "<Figure size 640x480 with 1 Axes>"
      ]
     },
     "metadata": {},
     "output_type": "display_data"
    }
   ],
   "source": [
    "import matplotlib.pyplot as plt\n",
    "\n",
    "# Group by Storage_Size and sum Units_Sold\n",
    "storage_sales = phones.groupby('Storage_Size')['Units_Sold'].sum()\n",
    "\n",
    "# Generate different shades of blue using the Blues colormap\n",
    "colors = plt.cm.Blues([0.3 + 0.7 * (i / len(storage_sales)) for i in range(len(storage_sales))])\n",
    "\n",
    "# Create pie chart with blue shades\n",
    "fig, ax = plt.subplots()\n",
    "ax.pie(storage_sales.values, labels=storage_sales.index, autopct='%1.1f%%',\n",
    "       startangle=90, colors=colors)\n",
    "ax.set_title('Sales by Storage Size')\n",
    "ax.axis('equal')  # Equal aspect ratio ensures the pie is a circle\n",
    "\n",
    "plt.show()\n",
    "\n",
    "fig.savefig(os.path.join(output_dir, \"Sales_by_Storage_Size.jpg\"), dpi=300)\n",
    "plt.close(fig)"
   ]
  },
  {
   "cell_type": "code",
   "execution_count": 7,
   "id": "bd4a505d",
   "metadata": {},
   "outputs": [
    {
     "data": {
      "image/png": "[encoded data removed]",
      "text/plain": [
       "<Figure size 1000x600 with 1 Axes>"
      ]
     },
     "metadata": {},
     "output_type": "display_data"
    }
   ],
   "source": [
    "import matplotlib.pyplot as plt\n",
    "import pandas as pd\n",
    "import numpy as np\n",
    "\n",
    "# Group the data by Age Group and Brand, and sum Units Sold\n",
    "grouped_data = phones.groupby(['Customer_Age_Group', 'Brand'])['Units_Sold'].sum().unstack().fillna(0)\n",
    "\n",
    "# Set up the bar positions\n",
    "age_groups = grouped_data.index\n",
    "brands = grouped_data.columns\n",
    "x = np.arange(len(age_groups))  # positions on the x-axis\n",
    "bar_width = 0.15\n",
    "\n",
    "# Create the plot\n",
    "fig, ax = plt.subplots(figsize=(10, 6))\n",
    "\n",
    "# Plot each brand as a separate bar group\n",
    "for i, brand in enumerate(brands):\n",
    "    ax.bar(x + i * bar_width, grouped_data[brand], width=bar_width, label=brand)\n",
    "\n",
    "# Set labels and title\n",
    "ax.set_xlabel('Customer Age Group')\n",
    "ax.set_ylabel('Units Sold')\n",
    "ax.set_title('Customer Demographics by Mobile Brand')\n",
    "ax.set_xticks(x + bar_width * (len(brands) - 1) / 2)\n",
    "ax.set_xticklabels(age_groups)\n",
    "ax.legend(title='Brand')\n",
    "\n",
    "plt.tight_layout()\n",
    "plt.show()"
   ]
  },
  {
   "cell_type": "code",
   "execution_count": 8,
   "id": "a5a5953c",
   "metadata": {},
   "outputs": [
    {
     "data": {
      "image/png": "[encoded data removed]",
      "text/plain": [
       "<Figure size 800x400 with 1 Axes>"
      ]
     },
     "metadata": {},
     "output_type": "display_data"
    }
   ],
   "source": [
    "import matplotlib.pyplot as plt\n",
    "import pandas as pd\n",
    "import numpy as np\n",
    "\n",
    "# Group by Sales_Channel and Payment_Type, then sum Total_Revenue\n",
    "grouped_data = phones.groupby(['Sales_Channel', 'Payment_Type'])['Total_Revenue'].sum().unstack().fillna(0)\n",
    "\n",
    "# Set up plot\n",
    "sales_channels = grouped_data.index\n",
    "payment_types = grouped_data.columns\n",
    "x = np.arange(len(sales_channels))  # positions on x-axis\n",
    "\n",
    "# Colors (optional: use blues or custom palette)\n",
    "colors = plt.cm.Blues(np.linspace(0.4, 0.9, len(payment_types)))\n",
    "\n",
    "# Create stacked bar chart\n",
    "fig, ax = plt.subplots(figsize=(8, 4))\n",
    "\n",
    "bottom = np.zeros(len(sales_channels))  # track where each stack starts\n",
    "for i, (payment_type, color) in enumerate(zip(payment_types, colors)):\n",
    "    ax.bar(x, grouped_data[payment_type], bottom=bottom, label=payment_type, color=color)\n",
    "    bottom += grouped_data[payment_type]\n",
    "\n",
    "# Axis labels and title\n",
    "ax.set_xlabel('Sales Channel')\n",
    "ax.set_ylabel('Total Revenue')\n",
    "ax.set_title('Sales and Revenue by Channel and Payment Method')\n",
    "ax.set_xticks(x)\n",
    "ax.set_xticklabels(sales_channels)\n",
    "ax.legend(title='Payment Type')\n",
    "\n",
    "plt.tight_layout()\n",
    "plt.show()\n",
    "\n",
    "fig.savefig(os.path.join(output_dir, \"Payment_Type.jpg\"), dpi=300)\n",
    "plt.close(fig)"
   ]
  },
  {
   "cell_type": "code",
   "execution_count": 9,
   "id": "8f9705fd",
   "metadata": {},
   "outputs": [
    {
     "data": {
      "image/png": "[encoded data removed]",
      "text/plain": [
       "<Figure size 800x600 with 2 Axes>"
      ]
     },
     "metadata": {},
     "output_type": "display_data"
    }
   ],
   "source": [
    "import pandas as pd\n",
    "import matplotlib.pyplot as plt\n",
    "\n",
    "# Sample aggregation\n",
    "# Grouping by region (Country in this case; adjust if 'Region' is a separate column)\n",
    "region_group = phones.groupby('Country').agg({\n",
    "    'Units_Sold': 'sum',\n",
    "    'Price': 'mean'\n",
    "}).reset_index()\n",
    "\n",
    "# Create the plot\n",
    "fig, ax1 = plt.subplots(figsize=(8, 6))\n",
    "\n",
    "# Plot Units Sold (volume) on primary y-axis\n",
    "ax1.bar(region_group['Country'], region_group['Units_Sold'], color='skyblue', label='Units Sold')\n",
    "ax1.set_xlabel('Region')\n",
    "ax1.set_ylabel('Units Sold', color='skyblue')\n",
    "ax1.tick_params(axis='y', labelcolor='skyblue')\n",
    "\n",
    "# Create secondary y-axis for average price\n",
    "ax2 = ax1.twinx()\n",
    "ax2.plot(region_group['Country'], region_group['Price'], color='darkorange', marker='o', label='Average Price')\n",
    "ax2.set_ylabel('Average Price', color='darkorange')\n",
    "ax2.tick_params(axis='y', labelcolor='darkorange')\n",
    "\n",
    "# Title and layout\n",
    "plt.title('Pricing vs Sales Volume by Region')\n",
    "fig.tight_layout()\n",
    "plt.show()\n",
    "\n",
    "fig.savefig(os.path.join(output_dir, \"Pricing_vs_Sales_Volume_by_Region.jpg\"), dpi=300)\n",
    "plt.close(fig)"
   ]
  },
  {
   "cell_type": "code",
   "execution_count": 10,
   "id": "5b96513d",
   "metadata": {},
   "outputs": [
    {
     "data": {
      "image/png": "[encoded data removed]",
      "text/plain": [
       "<Figure size 1100x500 with 2 Axes>"
      ]
     },
     "metadata": {},
     "output_type": "display_data"
    }
   ],
   "source": [
    "phones['Transaction_Date'] = pd.to_datetime(phones['Transaction_Date'])\n",
    "phones['Sale_Month'] = phones['Transaction_Date'].dt.to_period('M').astype(str)\n",
    "\n",
    "monthly = phones.groupby('Sale_Month')[['Units_Sold', 'Total_Revenue']].sum().reset_index()\n",
    "\n",
    "fig, ax1 = plt.subplots(figsize=(11, 5))\n",
    "ax1.plot(monthly['Sale_Month'], monthly['Units_Sold'], color='blue')\n",
    "ax1.set_ylabel('Units Sold', color='blue')\n",
    "ax1.tick_params(axis='y', labelcolor='blue')\n",
    "\n",
    "ax2 = ax1.twinx()\n",
    "ax2.plot(monthly['Sale_Month'], monthly['Total_Revenue'], color='green')\n",
    "ax2.set_ylabel('Revenue', color='green')\n",
    "ax2.tick_params(axis='y', labelcolor='green')\n",
    "\n",
    "plt.title('Monthly Sales Trends (2024)')\n",
    "plt.xticks(rotation=45)\n",
    "plt.tight_layout()\n",
    "plt.show()\n",
    "\n",
    "fig.savefig(os.path.join(output_dir, \"Monthly_Sales_Trends.jpg\"), dpi=300)\n",
    "plt.close(fig)"
   ]
  },
  {
   "cell_type": "code",
   "execution_count": 11,
   "id": "0e1f780b",
   "metadata": {},
   "outputs": [
    {
     "data": {
      "image/png": "[encoded data removed]",
      "text/plain": [
       "<Figure size 800x500 with 1 Axes>"
      ]
     },
     "metadata": {},
     "output_type": "display_data"
    }
   ],
   "source": [
    "import matplotlib.pyplot as plt\n",
    "import pandas as pd\n",
    "\n",
    "# Create price range bins\n",
    "phones['Price_Range'] = pd.cut(\n",
    "    phones['Price'],\n",
    "    bins=[0, 300, 600, 1000, 2000],\n",
    "    labels=['Budget', 'Mid-Range', 'Premium', 'Luxury']\n",
    ")\n",
    "\n",
    "# Create pivot table for plotting\n",
    "pivot = phones.groupby(['Price_Range', 'Customer_Age_Group'])['Units_Sold'].sum().unstack(fill_value=0)\n",
    "\n",
    "# Define a neater color palette\n",
    "custom_colors = ['#4E79A7', '#F28E2B', '#E15759', '#76B7B2', '#59A14F', '#EDC948']\n",
    "\n",
    "# Plot with clean color scheme\n",
    "fig, ax = plt.subplots(figsize=(8, 5))\n",
    "pivot.plot(kind='bar', stacked=True, ax=ax, color=custom_colors[:len(pivot.columns)])\n",
    "\n",
    "ax.set_title('Customer Age Group by Price Range')\n",
    "ax.set_ylabel('Units Sold')\n",
    "ax.set_xlabel('Price Range')\n",
    "ax.legend(title='Age Group')\n",
    "plt.xticks(rotation=0)\n",
    "plt.tight_layout()\n",
    "plt.show()\n",
    "\n",
    "fig.savefig(os.path.join(output_dir, \"Customer_Age_Group_by_Price_Range.jpg\"), dpi=300)\n",
    "plt.close(fig)"
   ]
  },
  {
   "cell_type": "code",
   "execution_count": 12,
   "id": "049365f5",
   "metadata": {},
   "outputs": [
    {
     "data": {
      "application/vnd.plotly.v1+json": {
       "config": {
        "plotlyServerURL": "https://plot.ly"
       },
       "data": [
        {
         "customdata": [
          [
           396337,
           572
          ],
          [
           991696,
           1131
          ],
          [
           1048662,
           1376
          ],
          [
           501721,
           821
          ],
          [
           1546416,
           1799
          ],
          [
           1410880,
           1305
          ],
          [
           316413,
           520
          ],
          [
           435299,
           532
          ],
          [
           283999,
           457
          ],
          [
           465120,
           719
          ],
          [
           62415,
           137
          ],
          [
           969225,
           1345
          ],
          [
           865853,
           1230
          ],
          [
           962815,
           1237
          ],
          [
           162861,
           233
          ],
          [
           409586,
           490
          ],
          [
           702708,
           787
          ],
          [
           16565,
           31
          ],
          [
           676096,
           839
          ],
          [
           34515,
           65
          ],
          [
           690335,
           888
          ],
          [
           728023,
           912
          ],
          [
           431273,
           548
          ],
          [
           105952,
           88
          ],
          [
           310648,
           486
          ]
         ],
         "geo": "geo",
         "hovertemplate": "<b>%{hovertext}</b><br><br>Total_Revenue=%{marker.color}<br>City=%{text}<br>Latitude=%{lat}<br>Longitude=%{lon}<br>Units_Sold=%{customdata[1]}<extra></extra>",
         "hovertext": [
          "Ahmedabad",
          "Ankara",
          "Antalya",
          "Bangalore",
          "Bursa",
          "Chennai",
          "Chittagong",
          "Delhi",
          "Dhaka",
          "Hyderabad",
          "Islamabad",
          "Istanbul",
          "Izmir",
          "Jaipur",
          "Karachi",
          "Khulna",
          "Kolkata",
          "Lahore",
          "Lucknow",
          "Multan",
          "Mumbai",
          "Pune",
          "Rajshahi",
          "Rawalpindi",
          "Sylhet"
         ],
         "lat": [
          23.0225,
          39.9334,
          36.8969,
          12.9716,
          40.1828,
          13.0827,
          22.3569,
          28.7041,
          23.8103,
          17.385,
          33.6844,
          41.0082,
          38.4192,
          26.9124,
          24.8607,
          22.8456,
          22.5726,
          31.5497,
          26.8467,
          30.1575,
          19.076,
          18.5204,
          24.3745,
          33.5651,
          24.8949
         ],
         "legendgroup": "",
         "lon": [
          72.5714,
          32.8597,
          30.7133,
          77.5946,
          29.0665,
          80.2707,
          91.7832,
          77.1025,
          90.4125,
          78.4867,
          73.0479,
          28.9784,
          27.1287,
          75.7873,
          67.0011,
          89.5403,
          88.3639,
          74.3436,
          80.9462,
          71.5249,
          72.8777,
          73.8567,
          88.6042,
          73.0169,
          91.8687
         ],
         "marker": {
          "color": [
           396337,
           991696,
           1048662,
           501721,
           1546416,
           1410880,
           316413,
           435299,
           283999,
           465120,
           62415,
           969225,
           865853,
           962815,
           162861,
           409586,
           702708,
           16565,
           676096,
           34515,
           690335,
           728023,
           431273,
           105952,
           310648
          ],
          "coloraxis": "coloraxis",
          "size": [
           396337,
           991696,
           1048662,
           501721,
           1546416,
           1410880,
           316413,
           435299,
           283999,
           465120,
           62415,
           969225,
           865853,
           962815,
           162861,
           409586,
           702708,
           16565,
           676096,
           34515,
           690335,
           728023,
           431273,
           105952,
           310648
          ],
          "sizemode": "area",
          "sizeref": 2474.2656,
          "symbol": "circle"
         },
         "mode": "markers+text",
         "name": "",
         "showlegend": false,
         "text": [
          "Ahmedabad",
          "Ankara",
          "Antalya",
          "Bangalore",
          "Bursa",
          "Chennai",
          "Chittagong",
          "Delhi",
          "Dhaka",
          "Hyderabad",
          "Islamabad",
          "Istanbul",
          "Izmir",
          "Jaipur",
          "Karachi",
          "Khulna",
          "Kolkata",
          "Lahore",
          "Lucknow",
          "Multan",
          "Mumbai",
          "Pune",
          "Rajshahi",
          "Rawalpindi",
          "Sylhet"
         ],
         "type": "scattergeo"
        }
       ],
       "layout": {
        "coloraxis": {
         "colorbar": {
          "title": {
           "text": "Total_Revenue"
          }
         },
         "colorscale": [
          [
           0,
           "#440154"
          ],
          [
           0.1111111111111111,
           "#482878"
          ],
          [
           0.2222222222222222,
           "#3e4989"
          ],
          [
           0.3333333333333333,
           "#31688e"
          ],
          [
           0.4444444444444444,
           "#26828e"
          ],
          [
           0.5555555555555556,
           "#1f9e89"
          ],
          [
           0.6666666666666666,
           "#35b779"
          ],
          [
           0.7777777777777778,
           "#6ece58"
          ],
          [
           0.8888888888888888,
           "#b5de2b"
          ],
          [
           1,
           "#fde725"
          ]
         ]
        },
        "geo": {
         "center": {},
         "domain": {
          "x": [
           0,
           1
          ],
          "y": [
           0,
           1
          ]
         },
         "landcolor": "lightgray",
         "projection": {
          "type": "natural earth"
         },
         "scope": "asia",
         "showland": true
        },
        "legend": {
         "itemsizing": "constant",
         "tracegroupgap": 0
        },
        "margin": {
         "b": 0,
         "l": 0,
         "r": 0,
         "t": 50
        },
        "template": {
         "data": {
          "bar": [
           {
            "error_x": {
             "color": "#2a3f5f"
            },
            "error_y": {
             "color": "#2a3f5f"
            },
            "marker": {
             "line": {
              "color": "#E5ECF6",
              "width": 0.5
             },
             "pattern": {
              "fillmode": "overlay",
              "size": 10,
              "solidity": 0.2
             }
            },
            "type": "bar"
           }
          ],
          "barpolar": [
           {
            "marker": {
             "line": {
              "color": "#E5ECF6",
              "width": 0.5
             },
             "pattern": {
              "fillmode": "overlay",
              "size": 10,
              "solidity": 0.2
             }
            },
            "type": "barpolar"
           }
          ],
          "carpet": [
           {
            "aaxis": {
             "endlinecolor": "#2a3f5f",
             "gridcolor": "white",
             "linecolor": "white",
             "minorgridcolor": "white",
             "startlinecolor": "#2a3f5f"
            },
            "baxis": {
             "endlinecolor": "#2a3f5f",
             "gridcolor": "white",
             "linecolor": "white",
             "minorgridcolor": "white",
             "startlinecolor": "#2a3f5f"
            },
            "type": "carpet"
           }
          ],
          "choropleth": [
           {
            "colorbar": {
             "outlinewidth": 0,
             "ticks": ""
            },
            "type": "choropleth"
           }
          ],
          "contour": [
           {
            "colorbar": {
             "outlinewidth": 0,
             "ticks": ""
            },
            "colorscale": [
             [
              0,
              "#0d0887"
             ],
             [
              0.1111111111111111,
              "#46039f"
             ],
             [
              0.2222222222222222,
              "#7201a8"
             ],
             [
              0.3333333333333333,
              "#9c179e"
             ],
             [
              0.4444444444444444,
              "#bd3786"
             ],
             [
              0.5555555555555556,
              "#d8576b"
             ],
             [
              0.6666666666666666,
              "#ed7953"
             ],
             [
              0.7777777777777778,
              "#fb9f3a"
             ],
             [
              0.8888888888888888,
              "#fdca26"
             ],
             [
              1,
              "#f0f921"
             ]
            ],
            "type": "contour"
           }
          ],
          "contourcarpet": [
           {
            "colorbar": {
             "outlinewidth": 0,
             "ticks": ""
            },
            "type": "contourcarpet"
           }
          ],
          "heatmap": [
           {
            "colorbar": {
             "outlinewidth": 0,
             "ticks": ""
            },
            "colorscale": [
             [
              0,
              "#0d0887"
             ],
             [
              0.1111111111111111,
              "#46039f"
             ],
             [
              0.2222222222222222,
              "#7201a8"
             ],
             [
              0.3333333333333333,
              "#9c179e"
             ],
             [
              0.4444444444444444,
              "#bd3786"
             ],
             [
              0.5555555555555556,
              "#d8576b"
             ],
             [
              0.6666666666666666,
              "#ed7953"
             ],
             [
              0.7777777777777778,
              "#fb9f3a"
             ],
             [
              0.8888888888888888,
              "#fdca26"
             ],
             [
              1,
              "#f0f921"
             ]
            ],
            "type": "heatmap"
           }
          ],
          "heatmapgl": [
           {
            "colorbar": {
             "outlinewidth": 0,
             "ticks": ""
            },
            "colorscale": [
             [
              0,
              "#0d0887"
             ],
             [
              0.1111111111111111,
              "#46039f"
             ],
             [
              0.2222222222222222,
              "#7201a8"
             ],
             [
              0.3333333333333333,
              "#9c179e"
             ],
             [
              0.4444444444444444,
              "#bd3786"
             ],
             [
              0.5555555555555556,
              "#d8576b"
             ],
             [
              0.6666666666666666,
              "#ed7953"
             ],
             [
              0.7777777777777778,
              "#fb9f3a"
             ],
             [
              0.8888888888888888,
              "#fdca26"
             ],
             [
              1,
              "#f0f921"
             ]
            ],
            "type": "heatmapgl"
           }
          ],
          "histogram": [
           {
            "marker": {
             "pattern": {
              "fillmode": "overlay",
              "size": 10,
              "solidity": 0.2
             }
            },
            "type": "histogram"
           }
          ],
          "histogram2d": [
           {
            "colorbar": {
             "outlinewidth": 0,
             "ticks": ""
            },
            "colorscale": [
             [
              0,
              "#0d0887"
             ],
             [
              0.1111111111111111,
              "#46039f"
             ],
             [
              0.2222222222222222,
              "#7201a8"
             ],
             [
              0.3333333333333333,
              "#9c179e"
             ],
             [
              0.4444444444444444,
              "#bd3786"
             ],
             [
              0.5555555555555556,
              "#d8576b"
             ],
             [
              0.6666666666666666,
              "#ed7953"
             ],
             [
              0.7777777777777778,
              "#fb9f3a"
             ],
             [
              0.8888888888888888,
              "#fdca26"
             ],
             [
              1,
              "#f0f921"
             ]
            ],
            "type": "histogram2d"
           }
          ],
          "histogram2dcontour": [
           {
            "colorbar": {
             "outlinewidth": 0,
             "ticks": ""
            },
            "colorscale": [
             [
              0,
              "#0d0887"
             ],
             [
              0.1111111111111111,
              "#46039f"
             ],
             [
              0.2222222222222222,
              "#7201a8"
             ],
             [
              0.3333333333333333,
              "#9c179e"
             ],
             [
              0.4444444444444444,
              "#bd3786"
             ],
             [
              0.5555555555555556,
              "#d8576b"
             ],
             [
              0.6666666666666666,
              "#ed7953"
             ],
             [
              0.7777777777777778,
              "#fb9f3a"
             ],
             [
              0.8888888888888888,
              "#fdca26"
             ],
             [
              1,
              "#f0f921"
             ]
            ],
            "type": "histogram2dcontour"
           }
          ],
          "mesh3d": [
           {
            "colorbar": {
             "outlinewidth": 0,
             "ticks": ""
            },
            "type": "mesh3d"
           }
          ],
          "parcoords": [
           {
            "line": {
             "colorbar": {
              "outlinewidth": 0,
              "ticks": ""
             }
            },
            "type": "parcoords"
           }
          ],
          "pie": [
           {
            "automargin": true,
            "type": "pie"
           }
          ],
          "scatter": [
           {
            "fillpattern": {
             "fillmode": "overlay",
             "size": 10,
             "solidity": 0.2
            },
            "type": "scatter"
           }
          ],
          "scatter3d": [
           {
            "line": {
             "colorbar": {
              "outlinewidth": 0,
              "ticks": ""
             }
            },
            "marker": {
             "colorbar": {
              "outlinewidth": 0,
              "ticks": ""
             }
            },
            "type": "scatter3d"
           }
          ],
          "scattercarpet": [
           {
            "marker": {
             "colorbar": {
              "outlinewidth": 0,
              "ticks": ""
             }
            },
            "type": "scattercarpet"
           }
          ],
          "scattergeo": [
           {
            "marker": {
             "colorbar": {
              "outlinewidth": 0,
              "ticks": ""
             }
            },
            "type": "scattergeo"
           }
          ],
          "scattergl": [
           {
            "marker": {
             "colorbar": {
              "outlinewidth": 0,
              "ticks": ""
             }
            },
            "type": "scattergl"
           }
          ],
          "scattermapbox": [
           {
            "marker": {
             "colorbar": {
              "outlinewidth": 0,
              "ticks": ""
             }
            },
            "type": "scattermapbox"
           }
          ],
          "scatterpolar": [
           {
            "marker": {
             "colorbar": {
              "outlinewidth": 0,
              "ticks": ""
             }
            },
            "type": "scatterpolar"
           }
          ],
          "scatterpolargl": [
           {
            "marker": {
             "colorbar": {
              "outlinewidth": 0,
              "ticks": ""
             }
            },
            "type": "scatterpolargl"
           }
          ],
          "scatterternary": [
           {
            "marker": {
             "colorbar": {
              "outlinewidth": 0,
              "ticks": ""
             }
            },
            "type": "scatterternary"
           }
          ],
          "surface": [
           {
            "colorbar": {
             "outlinewidth": 0,
             "ticks": ""
            },
            "colorscale": [
             [
              0,
              "#0d0887"
             ],
             [
              0.1111111111111111,
              "#46039f"
             ],
             [
              0.2222222222222222,
              "#7201a8"
             ],
             [
              0.3333333333333333,
              "#9c179e"
             ],
             [
              0.4444444444444444,
              "#bd3786"
             ],
             [
              0.5555555555555556,
              "#d8576b"
             ],
             [
              0.6666666666666666,
              "#ed7953"
             ],
             [
              0.7777777777777778,
              "#fb9f3a"
             ],
             [
              0.8888888888888888,
              "#fdca26"
             ],
             [
              1,
              "#f0f921"
             ]
            ],
            "type": "surface"
           }
          ],
          "table": [
           {
            "cells": {
             "fill": {
              "color": "#EBF0F8"
             },
             "line": {
              "color": "white"
             }
            },
            "header": {
             "fill": {
              "color": "#C8D4E3"
             },
             "line": {
              "color": "white"
             }
            },
            "type": "table"
           }
          ]
         },
         "layout": {
          "annotationdefaults": {
           "arrowcolor": "#2a3f5f",
           "arrowhead": 0,
           "arrowwidth": 1
          },
          "autotypenumbers": "strict",
          "coloraxis": {
           "colorbar": {
            "outlinewidth": 0,
            "ticks": ""
           }
          },
          "colorscale": {
           "diverging": [
            [
             0,
             "#8e0152"
            ],
            [
             0.1,
             "#c51b7d"
            ],
            [
             0.2,
             "#de77ae"
            ],
            [
             0.3,
             "#f1b6da"
            ],
            [
             0.4,
             "#fde0ef"
            ],
            [
             0.5,
             "#f7f7f7"
            ],
            [
             0.6,
             "#e6f5d0"
            ],
            [
             0.7,
             "#b8e186"
            ],
            [
             0.8,
             "#7fbc41"
            ],
            [
             0.9,
             "#4d9221"
            ],
            [
             1,
             "#276419"
            ]
           ],
           "sequential": [
            [
             0,
             "#0d0887"
            ],
            [
             0.1111111111111111,
             "#46039f"
            ],
            [
             0.2222222222222222,
             "#7201a8"
            ],
            [
             0.3333333333333333,
             "#9c179e"
            ],
            [
             0.4444444444444444,
             "#bd3786"
            ],
            [
             0.5555555555555556,
             "#d8576b"
            ],
            [
             0.6666666666666666,
             "#ed7953"
            ],
            [
             0.7777777777777778,
             "#fb9f3a"
            ],
            [
             0.8888888888888888,
             "#fdca26"
            ],
            [
             1,
             "#f0f921"
            ]
           ],
           "sequentialminus": [
            [
             0,
             "#0d0887"
            ],
            [
             0.1111111111111111,
             "#46039f"
            ],
            [
             0.2222222222222222,
             "#7201a8"
            ],
            [
             0.3333333333333333,
             "#9c179e"
            ],
            [
             0.4444444444444444,
             "#bd3786"
            ],
            [
             0.5555555555555556,
             "#d8576b"
            ],
            [
             0.6666666666666666,
             "#ed7953"
            ],
            [
             0.7777777777777778,
             "#fb9f3a"
            ],
            [
             0.8888888888888888,
             "#fdca26"
            ],
            [
             1,
             "#f0f921"
            ]
           ]
          },
          "colorway": [
           "#636efa",
           "#EF553B",
           "#00cc96",
           "#ab63fa",
           "#FFA15A",
           "#19d3f3",
           "#FF6692",
           "#B6E880",
           "#FF97FF",
           "#FECB52"
          ],
          "font": {
           "color": "#2a3f5f"
          },
          "geo": {
           "bgcolor": "white",
           "lakecolor": "white",
           "landcolor": "#E5ECF6",
           "showlakes": true,
           "showland": true,
           "subunitcolor": "white"
          },
          "hoverlabel": {
           "align": "left"
          },
          "hovermode": "closest",
          "mapbox": {
           "style": "light"
          },
          "paper_bgcolor": "white",
          "plot_bgcolor": "#E5ECF6",
          "polar": {
           "angularaxis": {
            "gridcolor": "white",
            "linecolor": "white",
            "ticks": ""
           },
           "bgcolor": "#E5ECF6",
           "radialaxis": {
            "gridcolor": "white",
            "linecolor": "white",
            "ticks": ""
           }
          },
          "scene": {
           "xaxis": {
            "backgroundcolor": "#E5ECF6",
            "gridcolor": "white",
            "gridwidth": 2,
            "linecolor": "white",
            "showbackground": true,
            "ticks": "",
            "zerolinecolor": "white"
           },
           "yaxis": {
            "backgroundcolor": "#E5ECF6",
            "gridcolor": "white",
            "gridwidth": 2,
            "linecolor": "white",
            "showbackground": true,
            "ticks": "",
            "zerolinecolor": "white"
           },
           "zaxis": {
            "backgroundcolor": "#E5ECF6",
            "gridcolor": "white",
            "gridwidth": 2,
            "linecolor": "white",
            "showbackground": true,
            "ticks": "",
            "zerolinecolor": "white"
           }
          },
          "shapedefaults": {
           "line": {
            "color": "#2a3f5f"
           }
          },
          "ternary": {
           "aaxis": {
            "gridcolor": "white",
            "linecolor": "white",
            "ticks": ""
           },
           "baxis": {
            "gridcolor": "white",
            "linecolor": "white",
            "ticks": ""
           },
           "bgcolor": "#E5ECF6",
           "caxis": {
            "gridcolor": "white",
            "linecolor": "white",
            "ticks": ""
           }
          },
          "title": {
           "x": 0.05
          },
          "xaxis": {
           "automargin": true,
           "gridcolor": "white",
           "linecolor": "white",
           "ticks": "",
           "title": {
            "standoff": 15
           },
           "zerolinecolor": "white",
           "zerolinewidth": 2
          },
          "yaxis": {
           "automargin": true,
           "gridcolor": "white",
           "linecolor": "white",
           "ticks": "",
           "title": {
            "standoff": 15
           },
           "zerolinecolor": "white",
           "zerolinewidth": 2
          }
         }
        },
        "title": {
         "text": "Revenue & Units Sold by City (Continent View)"
        }
       }
      }
     },
     "metadata": {},
     "output_type": "display_data"
    }
   ],
   "source": [
    "import plotly.express as px\n",
    "import pandas as pd\n",
    "\n",
    "# Aggregate city-level data\n",
    "city_data = phones.groupby(['City', 'Latitude', 'Longitude'], as_index=False).agg({\n",
    "    'Total_Revenue': 'sum',\n",
    "    'Units_Sold': 'sum'\n",
    "})\n",
    "\n",
    "# Plotly interactive scatter geo plot (zoomed to a continent)\n",
    "fig = px.scatter_geo(\n",
    "    city_data,\n",
    "    lat='Latitude',\n",
    "    lon='Longitude',\n",
    "    text='City',\n",
    "    hover_name='City',\n",
    "    hover_data={'Total_Revenue': True, 'Units_Sold': True},\n",
    "    size='Total_Revenue',\n",
    "    size_max=25,\n",
    "    color='Total_Revenue',\n",
    "    color_continuous_scale='Viridis',  # Reverted to Viridis\n",
    "    projection='natural earth',\n",
    "    title='Revenue & Units Sold by City (Continent View)'\n",
    ")\n",
    "\n",
    "# Zoom into your target continent — e.g., 'asia', 'europe', etc.\n",
    "fig.update_geos(scope='asia', showland=True, landcolor='lightgray')\n",
    "\n",
    "fig.update_layout(margin={\"r\":0, \"t\":50, \"l\":0, \"b\":0})\n",
    "fig.show()\n",
    "fig.write_image(os.path.join(output_dir, \"Revenue_&_Units_Sold_by_City.jpg\"), scale=2)"
   ]
  }
 ],
 "metadata": {
  "kernelspec": {
   "display_name": "base",
   "language": "python",
   "name": "python3"
  },
  "language_info": {
   "codemirror_mode": {
    "name": "ipython",
    "version": 3
   },
   "file_extension": ".py",
   "mimetype": "text/x-python",
   "name": "python",
   "nbconvert_exporter": "python",
   "pygments_lexer": "ipython3",
   "version": "3.11.5"
  }
 },
 "nbformat": 4,
 "nbformat_minor": 5
}
